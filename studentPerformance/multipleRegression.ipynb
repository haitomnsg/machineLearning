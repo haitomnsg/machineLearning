{
 "cells": [
  {
   "cell_type": "code",
   "execution_count": 46,
   "id": "c3cbf243",
   "metadata": {},
   "outputs": [],
   "source": [
    "import pandas as pd\n",
    "import numpy as np\n",
    "import matplotlib.pyplot as plt"
   ]
  },
  {
   "cell_type": "code",
   "execution_count": 47,
   "id": "18289677",
   "metadata": {},
   "outputs": [],
   "source": [
    "df = pd.read_csv('student-performance.csv')"
   ]
  },
  {
   "cell_type": "code",
   "execution_count": 48,
   "id": "9b7afb3a",
   "metadata": {},
   "outputs": [
    {
     "data": {
      "application/vnd.microsoft.datawrangler.viewer.v0+json": {
       "columns": [
        {
         "name": "index",
         "rawType": "int64",
         "type": "integer"
        },
        {
         "name": "Hours Studied",
         "rawType": "int64",
         "type": "integer"
        },
        {
         "name": "Previous Scores",
         "rawType": "int64",
         "type": "integer"
        },
        {
         "name": "Extracurricular Activities",
         "rawType": "int64",
         "type": "integer"
        },
        {
         "name": "Sleep Hours",
         "rawType": "int64",
         "type": "integer"
        },
        {
         "name": "Sample Question Papers Practiced",
         "rawType": "int64",
         "type": "integer"
        },
        {
         "name": "Performance Index",
         "rawType": "int64",
         "type": "integer"
        }
       ],
       "ref": "bff36f43-a7b3-487f-8bdc-1fa1df601680",
       "rows": [
        [
         "0",
         "7",
         "99",
         "1",
         "9",
         "1",
         "91"
        ],
        [
         "1",
         "4",
         "82",
         "0",
         "4",
         "2",
         "65"
        ],
        [
         "2",
         "8",
         "51",
         "1",
         "7",
         "2",
         "45"
        ],
        [
         "3",
         "5",
         "52",
         "1",
         "5",
         "2",
         "36"
        ],
        [
         "4",
         "7",
         "75",
         "0",
         "8",
         "5",
         "66"
        ]
       ],
       "shape": {
        "columns": 6,
        "rows": 5
       }
      },
      "text/html": [
       "<div>\n",
       "<style scoped>\n",
       "    .dataframe tbody tr th:only-of-type {\n",
       "        vertical-align: middle;\n",
       "    }\n",
       "\n",
       "    .dataframe tbody tr th {\n",
       "        vertical-align: top;\n",
       "    }\n",
       "\n",
       "    .dataframe thead th {\n",
       "        text-align: right;\n",
       "    }\n",
       "</style>\n",
       "<table border=\"1\" class=\"dataframe\">\n",
       "  <thead>\n",
       "    <tr style=\"text-align: right;\">\n",
       "      <th></th>\n",
       "      <th>Hours Studied</th>\n",
       "      <th>Previous Scores</th>\n",
       "      <th>Extracurricular Activities</th>\n",
       "      <th>Sleep Hours</th>\n",
       "      <th>Sample Question Papers Practiced</th>\n",
       "      <th>Performance Index</th>\n",
       "    </tr>\n",
       "  </thead>\n",
       "  <tbody>\n",
       "    <tr>\n",
       "      <th>0</th>\n",
       "      <td>7</td>\n",
       "      <td>99</td>\n",
       "      <td>1</td>\n",
       "      <td>9</td>\n",
       "      <td>1</td>\n",
       "      <td>91</td>\n",
       "    </tr>\n",
       "    <tr>\n",
       "      <th>1</th>\n",
       "      <td>4</td>\n",
       "      <td>82</td>\n",
       "      <td>0</td>\n",
       "      <td>4</td>\n",
       "      <td>2</td>\n",
       "      <td>65</td>\n",
       "    </tr>\n",
       "    <tr>\n",
       "      <th>2</th>\n",
       "      <td>8</td>\n",
       "      <td>51</td>\n",
       "      <td>1</td>\n",
       "      <td>7</td>\n",
       "      <td>2</td>\n",
       "      <td>45</td>\n",
       "    </tr>\n",
       "    <tr>\n",
       "      <th>3</th>\n",
       "      <td>5</td>\n",
       "      <td>52</td>\n",
       "      <td>1</td>\n",
       "      <td>5</td>\n",
       "      <td>2</td>\n",
       "      <td>36</td>\n",
       "    </tr>\n",
       "    <tr>\n",
       "      <th>4</th>\n",
       "      <td>7</td>\n",
       "      <td>75</td>\n",
       "      <td>0</td>\n",
       "      <td>8</td>\n",
       "      <td>5</td>\n",
       "      <td>66</td>\n",
       "    </tr>\n",
       "  </tbody>\n",
       "</table>\n",
       "</div>"
      ],
      "text/plain": [
       "   Hours Studied  Previous Scores  Extracurricular Activities  Sleep Hours  \\\n",
       "0              7               99                           1            9   \n",
       "1              4               82                           0            4   \n",
       "2              8               51                           1            7   \n",
       "3              5               52                           1            5   \n",
       "4              7               75                           0            8   \n",
       "\n",
       "   Sample Question Papers Practiced  Performance Index  \n",
       "0                                 1                 91  \n",
       "1                                 2                 65  \n",
       "2                                 2                 45  \n",
       "3                                 2                 36  \n",
       "4                                 5                 66  "
      ]
     },
     "execution_count": 48,
     "metadata": {},
     "output_type": "execute_result"
    }
   ],
   "source": [
    "df.head()"
   ]
  },
  {
   "cell_type": "code",
   "execution_count": 49,
   "id": "33b2181d",
   "metadata": {},
   "outputs": [
    {
     "data": {
      "application/vnd.microsoft.datawrangler.viewer.v0+json": {
       "columns": [
        {
         "name": "index",
         "rawType": "object",
         "type": "string"
        },
        {
         "name": "Hours Studied",
         "rawType": "float64",
         "type": "float"
        },
        {
         "name": "Previous Scores",
         "rawType": "float64",
         "type": "float"
        },
        {
         "name": "Extracurricular Activities",
         "rawType": "float64",
         "type": "float"
        },
        {
         "name": "Sleep Hours",
         "rawType": "float64",
         "type": "float"
        },
        {
         "name": "Sample Question Papers Practiced",
         "rawType": "float64",
         "type": "float"
        },
        {
         "name": "Performance Index",
         "rawType": "float64",
         "type": "float"
        }
       ],
       "ref": "56406dec-4946-4771-866d-27cd1890314e",
       "rows": [
        [
         "count",
         "10000.0",
         "10000.0",
         "10000.0",
         "10000.0",
         "10000.0",
         "10000.0"
        ],
        [
         "mean",
         "4.9929",
         "69.4457",
         "0.4948",
         "6.5306",
         "4.5833",
         "55.2248"
        ],
        [
         "std",
         "2.589308796185612",
         "17.343152251047066",
         "0.49999795979182254",
         "1.6958629765176023",
         "2.8673477777081713",
         "19.212557799463323"
        ],
        [
         "min",
         "1.0",
         "40.0",
         "0.0",
         "4.0",
         "0.0",
         "10.0"
        ],
        [
         "25%",
         "3.0",
         "54.0",
         "0.0",
         "5.0",
         "2.0",
         "40.0"
        ],
        [
         "50%",
         "5.0",
         "69.0",
         "0.0",
         "7.0",
         "5.0",
         "55.0"
        ],
        [
         "75%",
         "7.0",
         "85.0",
         "1.0",
         "8.0",
         "7.0",
         "71.0"
        ],
        [
         "max",
         "9.0",
         "99.0",
         "1.0",
         "9.0",
         "9.0",
         "100.0"
        ]
       ],
       "shape": {
        "columns": 6,
        "rows": 8
       }
      },
      "text/html": [
       "<div>\n",
       "<style scoped>\n",
       "    .dataframe tbody tr th:only-of-type {\n",
       "        vertical-align: middle;\n",
       "    }\n",
       "\n",
       "    .dataframe tbody tr th {\n",
       "        vertical-align: top;\n",
       "    }\n",
       "\n",
       "    .dataframe thead th {\n",
       "        text-align: right;\n",
       "    }\n",
       "</style>\n",
       "<table border=\"1\" class=\"dataframe\">\n",
       "  <thead>\n",
       "    <tr style=\"text-align: right;\">\n",
       "      <th></th>\n",
       "      <th>Hours Studied</th>\n",
       "      <th>Previous Scores</th>\n",
       "      <th>Extracurricular Activities</th>\n",
       "      <th>Sleep Hours</th>\n",
       "      <th>Sample Question Papers Practiced</th>\n",
       "      <th>Performance Index</th>\n",
       "    </tr>\n",
       "  </thead>\n",
       "  <tbody>\n",
       "    <tr>\n",
       "      <th>count</th>\n",
       "      <td>10000.000000</td>\n",
       "      <td>10000.000000</td>\n",
       "      <td>10000.000000</td>\n",
       "      <td>10000.000000</td>\n",
       "      <td>10000.000000</td>\n",
       "      <td>10000.000000</td>\n",
       "    </tr>\n",
       "    <tr>\n",
       "      <th>mean</th>\n",
       "      <td>4.992900</td>\n",
       "      <td>69.445700</td>\n",
       "      <td>0.494800</td>\n",
       "      <td>6.530600</td>\n",
       "      <td>4.583300</td>\n",
       "      <td>55.224800</td>\n",
       "    </tr>\n",
       "    <tr>\n",
       "      <th>std</th>\n",
       "      <td>2.589309</td>\n",
       "      <td>17.343152</td>\n",
       "      <td>0.499998</td>\n",
       "      <td>1.695863</td>\n",
       "      <td>2.867348</td>\n",
       "      <td>19.212558</td>\n",
       "    </tr>\n",
       "    <tr>\n",
       "      <th>min</th>\n",
       "      <td>1.000000</td>\n",
       "      <td>40.000000</td>\n",
       "      <td>0.000000</td>\n",
       "      <td>4.000000</td>\n",
       "      <td>0.000000</td>\n",
       "      <td>10.000000</td>\n",
       "    </tr>\n",
       "    <tr>\n",
       "      <th>25%</th>\n",
       "      <td>3.000000</td>\n",
       "      <td>54.000000</td>\n",
       "      <td>0.000000</td>\n",
       "      <td>5.000000</td>\n",
       "      <td>2.000000</td>\n",
       "      <td>40.000000</td>\n",
       "    </tr>\n",
       "    <tr>\n",
       "      <th>50%</th>\n",
       "      <td>5.000000</td>\n",
       "      <td>69.000000</td>\n",
       "      <td>0.000000</td>\n",
       "      <td>7.000000</td>\n",
       "      <td>5.000000</td>\n",
       "      <td>55.000000</td>\n",
       "    </tr>\n",
       "    <tr>\n",
       "      <th>75%</th>\n",
       "      <td>7.000000</td>\n",
       "      <td>85.000000</td>\n",
       "      <td>1.000000</td>\n",
       "      <td>8.000000</td>\n",
       "      <td>7.000000</td>\n",
       "      <td>71.000000</td>\n",
       "    </tr>\n",
       "    <tr>\n",
       "      <th>max</th>\n",
       "      <td>9.000000</td>\n",
       "      <td>99.000000</td>\n",
       "      <td>1.000000</td>\n",
       "      <td>9.000000</td>\n",
       "      <td>9.000000</td>\n",
       "      <td>100.000000</td>\n",
       "    </tr>\n",
       "  </tbody>\n",
       "</table>\n",
       "</div>"
      ],
      "text/plain": [
       "       Hours Studied  Previous Scores  Extracurricular Activities  \\\n",
       "count   10000.000000     10000.000000                10000.000000   \n",
       "mean        4.992900        69.445700                    0.494800   \n",
       "std         2.589309        17.343152                    0.499998   \n",
       "min         1.000000        40.000000                    0.000000   \n",
       "25%         3.000000        54.000000                    0.000000   \n",
       "50%         5.000000        69.000000                    0.000000   \n",
       "75%         7.000000        85.000000                    1.000000   \n",
       "max         9.000000        99.000000                    1.000000   \n",
       "\n",
       "        Sleep Hours  Sample Question Papers Practiced  Performance Index  \n",
       "count  10000.000000                      10000.000000       10000.000000  \n",
       "mean       6.530600                          4.583300          55.224800  \n",
       "std        1.695863                          2.867348          19.212558  \n",
       "min        4.000000                          0.000000          10.000000  \n",
       "25%        5.000000                          2.000000          40.000000  \n",
       "50%        7.000000                          5.000000          55.000000  \n",
       "75%        8.000000                          7.000000          71.000000  \n",
       "max        9.000000                          9.000000         100.000000  "
      ]
     },
     "execution_count": 49,
     "metadata": {},
     "output_type": "execute_result"
    }
   ],
   "source": [
    "df.describe()"
   ]
  },
  {
   "cell_type": "code",
   "execution_count": 50,
   "id": "b03d49ac",
   "metadata": {},
   "outputs": [],
   "source": [
    "x = df.iloc[:, :-1].values\n",
    "y = df.iloc[:, -1].values"
   ]
  },
  {
   "cell_type": "code",
   "execution_count": 51,
   "id": "a5cc21fc",
   "metadata": {},
   "outputs": [],
   "source": [
    "def normalize_features(x):\n",
    "    min_vals = x.min(axis=0)\n",
    "    max_vals = x.max(axis=0)\n",
    "    norm_x = (x - min_vals) / (max_vals - min_vals)\n",
    "    return norm_x, min_vals, max_vals\n",
    "\n",
    "def normalize_target(y):\n",
    "    y_min = np.min(y)\n",
    "    y_max = np.max(y)\n",
    "    norm_y = (y - y_min) / (y_max - y_min)\n",
    "    return norm_y, y_min, y_max\n",
    "\n",
    "x_norm, x_min, x_max = normalize_features(x)\n",
    "y_norm, y_min, y_max = normalize_target(y)"
   ]
  },
  {
   "cell_type": "code",
   "execution_count": 52,
   "id": "a5f337d3",
   "metadata": {},
   "outputs": [],
   "source": [
    "x_b = np.c_[np.ones((x_norm.shape[0], 1)), x_norm]"
   ]
  },
  {
   "cell_type": "code",
   "execution_count": 53,
   "id": "6b10c72c",
   "metadata": {},
   "outputs": [],
   "source": [
    "class MultiLinearRegressionGD:\n",
    "    def __init__(self, learning_rate=0.01, max_epochs=10000, tolerance=1e-6):\n",
    "        self.learning_rate = learning_rate\n",
    "        self.max_epochs = max_epochs\n",
    "        self.tolerance = tolerance\n",
    "    \n",
    "    def fit(self, x, y):\n",
    "        m, n = x.shape\n",
    "        self.theta = np.zeros(n)\n",
    "        prev_mse = float('inf')\n",
    "        \n",
    "        for epoch in range(self.max_epochs):\n",
    "            y_pred = x.dot(self.theta)\n",
    "            error = y_pred - y\n",
    "            gradient = (1/m) * x.T.dot(error)\n",
    "            self.theta -= self.learning_rate * gradient\n",
    "            \n",
    "            mse = (1/(2*m)) * np.sum(error**2)\n",
    "            \n",
    "            if epoch % 100 == 0:\n",
    "                print(f\"Epoch {epoch}, MSE: {mse:.6f}\")\n",
    "            \n",
    "            if abs(prev_mse - mse) < self.tolerance:\n",
    "                print(f\"Early stopping at epoch {epoch}\")\n",
    "                break\n",
    "            \n",
    "            prev_mse = mse\n",
    "\n",
    "    def predict(self, x):\n",
    "        return x.dot(self.theta)"
   ]
  },
  {
   "cell_type": "code",
   "execution_count": 54,
   "id": "74bde66d",
   "metadata": {},
   "outputs": [
    {
     "name": "stdout",
     "output_type": "stream",
     "text": [
      "Epoch 0, MSE: 0.149035\n",
      "Epoch 100, MSE: 0.015052\n",
      "Epoch 200, MSE: 0.011551\n",
      "Epoch 300, MSE: 0.009673\n",
      "Epoch 400, MSE: 0.008164\n",
      "Epoch 500, MSE: 0.006932\n",
      "Epoch 600, MSE: 0.005918\n",
      "Epoch 700, MSE: 0.005077\n",
      "Epoch 800, MSE: 0.004376\n",
      "Epoch 900, MSE: 0.003788\n",
      "Epoch 1000, MSE: 0.003293\n",
      "Epoch 1100, MSE: 0.002874\n",
      "Epoch 1200, MSE: 0.002519\n",
      "Epoch 1300, MSE: 0.002217\n",
      "Epoch 1400, MSE: 0.001960\n",
      "Epoch 1500, MSE: 0.001740\n",
      "Epoch 1600, MSE: 0.001551\n",
      "Epoch 1700, MSE: 0.001389\n",
      "Epoch 1800, MSE: 0.001249\n",
      "Epoch 1900, MSE: 0.001128\n",
      "Early stopping at epoch 1981\n"
     ]
    }
   ],
   "source": [
    "model = MultiLinearRegressionGD()\n",
    "model.fit(x_b, y_norm)"
   ]
  },
  {
   "cell_type": "code",
   "execution_count": 55,
   "id": "59fb5933",
   "metadata": {},
   "outputs": [
    {
     "name": "stdout",
     "output_type": "stream",
     "text": [
      "Final theta :  [ 0.11534573  0.21262401  0.54261867 -0.00097958  0.01696971  0.01257947]\n"
     ]
    }
   ],
   "source": [
    "print(\"Final theta : \", model.theta)"
   ]
  },
  {
   "cell_type": "code",
   "execution_count": null,
   "id": "76e931ec",
   "metadata": {},
   "outputs": [
    {
     "name": "stdout",
     "output_type": "stream",
     "text": [
      "Predicted normalized target value: 85.1338229907398\n"
     ]
    }
   ],
   "source": [
    "x = np.array([7, 99, 1, 9, 1])\n",
    "\n",
    "x_norm = (x - x_min) / (x_max - x_min)\n",
    "x_b = np.hstack(([1], x_norm))\n",
    "y = model.predict(x_b)\n",
    "y = y * (y_max - y_min) + y_min \n",
    "\n",
    "print(\"Predicted normalized target value:\", y)"
   ]
  }
 ],
 "metadata": {
  "kernelspec": {
   "display_name": "machine_learning",
   "language": "python",
   "name": "python3"
  },
  "language_info": {
   "codemirror_mode": {
    "name": "ipython",
    "version": 3
   },
   "file_extension": ".py",
   "mimetype": "text/x-python",
   "name": "python",
   "nbconvert_exporter": "python",
   "pygments_lexer": "ipython3",
   "version": "3.13.4"
  }
 },
 "nbformat": 4,
 "nbformat_minor": 5
}
